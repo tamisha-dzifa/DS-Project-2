{
  "nbformat": 4,
  "nbformat_minor": 0,
  "metadata": {
    "colab": {
      "name": "Project 2.ipynb",
      "provenance": [],
      "collapsed_sections": [],
      "authorship_tag": "ABX9TyN7kdd+xbb06bODQGIgnsYk",
      "include_colab_link": true
    },
    "kernelspec": {
      "display_name": "Python 3",
      "language": "python",
      "name": "python3"
    },
    "language_info": {
      "codemirror_mode": {
        "name": "ipython",
        "version": 3
      },
      "file_extension": ".py",
      "mimetype": "text/x-python",
      "name": "python",
      "nbconvert_exporter": "python",
      "pygments_lexer": "ipython3",
      "version": "3.7.6"
    }
  },
  "cells": [
    {
      "cell_type": "markdown",
      "metadata": {
        "id": "view-in-github",
        "colab_type": "text"
      },
      "source": [
        "<a href=\"https://colab.research.google.com/github/tamisha-dzifa/DSProject2/blob/master/Project_2_Data_Inventory.ipynb\" target=\"_parent\"><img src=\"https://colab.research.google.com/assets/colab-badge.svg\" alt=\"Open In Colab\"/></a>"
      ]
    },
    {
      "cell_type": "markdown",
      "metadata": {
        "id": "7XnQOCmH5vRm"
      },
      "source": [
        "Names: Michael Agyeman-Prempeh & Tamisha Dzifa Segbefia\n",
        "\n",
        "Project: Looking at whether GDP per capita and/or mean total years of education have a relationship with suicide rates in a country"
      ]
    },
    {
      "cell_type": "code",
      "metadata": {
        "id": "xixeZqQTN_-y"
      },
      "source": [
        "import pandas as pd"
      ],
      "execution_count": null,
      "outputs": []
    },
    {
      "cell_type": "markdown",
      "metadata": {
        "id": "l7nKRvWYvCgU"
      },
      "source": [
        "### Suicide Rates"
      ]
    },
    {
      "cell_type": "code",
      "metadata": {
        "id": "5bL2ULcjpyl3"
      },
      "source": [
        "import os\n",
        "\n",
        "if not os.path.exists('suicide-death-rates.csv'):\n",
        "  !wget https://github.com/tamisha-dzifa/DSProject2/raw/master/suicide-death-rates.csv"
      ],
      "execution_count": null,
      "outputs": []
    },
    {
      "cell_type": "code",
      "metadata": {
        "colab": {
          "base_uri": "https://localhost:8080/",
          "height": 204
        },
        "id": "D9cSEn3iqA6x",
        "outputId": "6eaeda4b-a255-4fcf-b5d8-618c4f30b3c6"
      },
      "source": [
        "suicide = pd.read_csv('suicide-death-rates.csv')\n",
        "suicide.head()"
      ],
      "execution_count": null,
      "outputs": [
        {
          "output_type": "execute_result",
          "data": {
            "text/html": [
              "<div>\n",
              "<style scoped>\n",
              "    .dataframe tbody tr th:only-of-type {\n",
              "        vertical-align: middle;\n",
              "    }\n",
              "\n",
              "    .dataframe tbody tr th {\n",
              "        vertical-align: top;\n",
              "    }\n",
              "\n",
              "    .dataframe thead th {\n",
              "        text-align: right;\n",
              "    }\n",
              "</style>\n",
              "<table border=\"1\" class=\"dataframe\">\n",
              "  <thead>\n",
              "    <tr style=\"text-align: right;\">\n",
              "      <th></th>\n",
              "      <th>Entity</th>\n",
              "      <th>Code</th>\n",
              "      <th>Year</th>\n",
              "      <th>Deaths - Self-harm - Sex: Both - Age: Age-standardized (Rate)</th>\n",
              "    </tr>\n",
              "  </thead>\n",
              "  <tbody>\n",
              "    <tr>\n",
              "      <th>0</th>\n",
              "      <td>Afghanistan</td>\n",
              "      <td>AFG</td>\n",
              "      <td>1990</td>\n",
              "      <td>10.318504</td>\n",
              "    </tr>\n",
              "    <tr>\n",
              "      <th>1</th>\n",
              "      <td>Afghanistan</td>\n",
              "      <td>AFG</td>\n",
              "      <td>1991</td>\n",
              "      <td>10.327010</td>\n",
              "    </tr>\n",
              "    <tr>\n",
              "      <th>2</th>\n",
              "      <td>Afghanistan</td>\n",
              "      <td>AFG</td>\n",
              "      <td>1992</td>\n",
              "      <td>10.271411</td>\n",
              "    </tr>\n",
              "    <tr>\n",
              "      <th>3</th>\n",
              "      <td>Afghanistan</td>\n",
              "      <td>AFG</td>\n",
              "      <td>1993</td>\n",
              "      <td>10.376123</td>\n",
              "    </tr>\n",
              "    <tr>\n",
              "      <th>4</th>\n",
              "      <td>Afghanistan</td>\n",
              "      <td>AFG</td>\n",
              "      <td>1994</td>\n",
              "      <td>10.575915</td>\n",
              "    </tr>\n",
              "  </tbody>\n",
              "</table>\n",
              "</div>"
            ],
            "text/plain": [
              "        Entity  ... Deaths - Self-harm - Sex: Both - Age: Age-standardized (Rate)\n",
              "0  Afghanistan  ...                                          10.318504           \n",
              "1  Afghanistan  ...                                          10.327010           \n",
              "2  Afghanistan  ...                                          10.271411           \n",
              "3  Afghanistan  ...                                          10.376123           \n",
              "4  Afghanistan  ...                                          10.575915           \n",
              "\n",
              "[5 rows x 4 columns]"
            ]
          },
          "metadata": {
            "tags": []
          },
          "execution_count": 36
        }
      ]
    },
    {
      "cell_type": "markdown",
      "metadata": {
        "id": "kbaAC01CqLiX"
      },
      "source": [
        "Renaming the last column as `Suicide Rate`."
      ]
    },
    {
      "cell_type": "code",
      "metadata": {
        "colab": {
          "base_uri": "https://localhost:8080/",
          "height": 204
        },
        "id": "Mv6ANokWqGV4",
        "outputId": "79ae7ce4-0a6d-4319-c5c7-c0661f29a3f5"
      },
      "source": [
        "suicide.columns = ['Entity', 'Code', 'Year', 'Suicide Rate']\n",
        "suicide.head()"
      ],
      "execution_count": null,
      "outputs": [
        {
          "output_type": "execute_result",
          "data": {
            "text/html": [
              "<div>\n",
              "<style scoped>\n",
              "    .dataframe tbody tr th:only-of-type {\n",
              "        vertical-align: middle;\n",
              "    }\n",
              "\n",
              "    .dataframe tbody tr th {\n",
              "        vertical-align: top;\n",
              "    }\n",
              "\n",
              "    .dataframe thead th {\n",
              "        text-align: right;\n",
              "    }\n",
              "</style>\n",
              "<table border=\"1\" class=\"dataframe\">\n",
              "  <thead>\n",
              "    <tr style=\"text-align: right;\">\n",
              "      <th></th>\n",
              "      <th>Entity</th>\n",
              "      <th>Code</th>\n",
              "      <th>Year</th>\n",
              "      <th>Suicide Rate</th>\n",
              "    </tr>\n",
              "  </thead>\n",
              "  <tbody>\n",
              "    <tr>\n",
              "      <th>0</th>\n",
              "      <td>Afghanistan</td>\n",
              "      <td>AFG</td>\n",
              "      <td>1990</td>\n",
              "      <td>10.318504</td>\n",
              "    </tr>\n",
              "    <tr>\n",
              "      <th>1</th>\n",
              "      <td>Afghanistan</td>\n",
              "      <td>AFG</td>\n",
              "      <td>1991</td>\n",
              "      <td>10.327010</td>\n",
              "    </tr>\n",
              "    <tr>\n",
              "      <th>2</th>\n",
              "      <td>Afghanistan</td>\n",
              "      <td>AFG</td>\n",
              "      <td>1992</td>\n",
              "      <td>10.271411</td>\n",
              "    </tr>\n",
              "    <tr>\n",
              "      <th>3</th>\n",
              "      <td>Afghanistan</td>\n",
              "      <td>AFG</td>\n",
              "      <td>1993</td>\n",
              "      <td>10.376123</td>\n",
              "    </tr>\n",
              "    <tr>\n",
              "      <th>4</th>\n",
              "      <td>Afghanistan</td>\n",
              "      <td>AFG</td>\n",
              "      <td>1994</td>\n",
              "      <td>10.575915</td>\n",
              "    </tr>\n",
              "  </tbody>\n",
              "</table>\n",
              "</div>"
            ],
            "text/plain": [
              "        Entity Code  Year  Suicide Rate\n",
              "0  Afghanistan  AFG  1990     10.318504\n",
              "1  Afghanistan  AFG  1991     10.327010\n",
              "2  Afghanistan  AFG  1992     10.271411\n",
              "3  Afghanistan  AFG  1993     10.376123\n",
              "4  Afghanistan  AFG  1994     10.575915"
            ]
          },
          "metadata": {
            "tags": []
          },
          "execution_count": 37
        }
      ]
    },
    {
      "cell_type": "code",
      "metadata": {
        "colab": {
          "base_uri": "https://localhost:8080/"
        },
        "id": "ilVDvAZpqmvn",
        "outputId": "01afc993-d0b6-44e1-f010-39a7e64704f8"
      },
      "source": [
        "suicide.shape"
      ],
      "execution_count": null,
      "outputs": [
        {
          "output_type": "execute_result",
          "data": {
            "text/plain": [
              "(6468, 4)"
            ]
          },
          "metadata": {
            "tags": []
          },
          "execution_count": 38
        }
      ]
    },
    {
      "cell_type": "code",
      "metadata": {
        "colab": {
          "base_uri": "https://localhost:8080/"
        },
        "id": "jyLw9zjGqsHE",
        "outputId": "1ece2d94-51eb-45dd-da6b-8ca873aa8ddf"
      },
      "source": [
        "suicide_entity = suicide['Entity']\n",
        "suicide_entity.value_counts().sort_index()"
      ],
      "execution_count": null,
      "outputs": [
        {
          "output_type": "execute_result",
          "data": {
            "text/plain": [
              "Afghanistan                   28\n",
              "Albania                       28\n",
              "Algeria                       28\n",
              "American Samoa                28\n",
              "Andean Latin America          28\n",
              "                              ..\n",
              "Western Sub-Saharan Africa    28\n",
              "World                         28\n",
              "Yemen                         28\n",
              "Zambia                        28\n",
              "Zimbabwe                      28\n",
              "Name: Entity, Length: 231, dtype: int64"
            ]
          },
          "metadata": {
            "tags": []
          },
          "execution_count": 39
        }
      ]
    },
    {
      "cell_type": "code",
      "metadata": {
        "colab": {
          "base_uri": "https://localhost:8080/"
        },
        "id": "1Ja13_rgrARv",
        "outputId": "df391e7f-82a2-41df-850e-145e1f3a8c9b"
      },
      "source": [
        "suicide_entity.isna().sum()"
      ],
      "execution_count": null,
      "outputs": [
        {
          "output_type": "execute_result",
          "data": {
            "text/plain": [
              "0"
            ]
          },
          "metadata": {
            "tags": []
          },
          "execution_count": 40
        }
      ]
    },
    {
      "cell_type": "code",
      "metadata": {
        "colab": {
          "base_uri": "https://localhost:8080/"
        },
        "id": "xqfIfThara0A",
        "outputId": "ae930773-f3bc-48f9-e974-21f9aaee0f79"
      },
      "source": [
        "suicide['Suicide Rate'].isna().sum()"
      ],
      "execution_count": null,
      "outputs": [
        {
          "output_type": "execute_result",
          "data": {
            "text/plain": [
              "0"
            ]
          },
          "metadata": {
            "tags": []
          },
          "execution_count": 41
        }
      ]
    },
    {
      "cell_type": "markdown",
      "metadata": {
        "id": "rknPCq_trfbx"
      },
      "source": [
        "There are no N/A values which is good."
      ]
    },
    {
      "cell_type": "code",
      "metadata": {
        "colab": {
          "base_uri": "https://localhost:8080/"
        },
        "id": "vL28K8Durefc",
        "outputId": "f382158b-d156-4d66-f249-3e1ac6530f8a"
      },
      "source": [
        "s_rate = suicide['Suicide Rate']\n",
        "s_rate.describe()"
      ],
      "execution_count": null,
      "outputs": [
        {
          "output_type": "execute_result",
          "data": {
            "text/plain": [
              "count    6468.000000\n",
              "mean       12.068240\n",
              "std         8.037739\n",
              "min         1.526792\n",
              "25%         6.741737\n",
              "50%        10.668531\n",
              "75%        14.742472\n",
              "max        98.831696\n",
              "Name: Suicide Rate, dtype: float64"
            ]
          },
          "metadata": {
            "tags": []
          },
          "execution_count": 42
        }
      ]
    },
    {
      "cell_type": "code",
      "metadata": {
        "colab": {
          "base_uri": "https://localhost:8080/"
        },
        "id": "wUUTZZiQruWs",
        "outputId": "a6c151b8-90ac-439d-d151-9cc9203c0e4e"
      },
      "source": [
        "import sys\n",
        "IN_COLAB = 'google.colab' in sys.modules\n",
        "\n",
        "if IN_COLAB:\n",
        "    !pip install empiricaldist"
      ],
      "execution_count": null,
      "outputs": [
        {
          "output_type": "stream",
          "text": [
            "Requirement already satisfied: empiricaldist in /usr/local/lib/python3.6/dist-packages (0.3.9)\n"
          ],
          "name": "stdout"
        }
      ]
    },
    {
      "cell_type": "code",
      "metadata": {
        "id": "tOcHfUEAr6Nx"
      },
      "source": [
        "from empiricaldist import Pmf, Cdf\n",
        "s_rate_cdf = Cdf.from_seq(s_rate)"
      ],
      "execution_count": null,
      "outputs": []
    },
    {
      "cell_type": "code",
      "metadata": {
        "id": "Ug--VdoPr_V4"
      },
      "source": [
        "import matplotlib.pyplot as plt"
      ],
      "execution_count": null,
      "outputs": []
    },
    {
      "cell_type": "code",
      "metadata": {
        "colab": {
          "base_uri": "https://localhost:8080/",
          "height": 295
        },
        "id": "irV19ORSsJrr",
        "outputId": "c2169578-66ca-49af-be77-5d67b7ee1b16"
      },
      "source": [
        "s_rate_cdf.plot()\n",
        "plt.xlabel('Suicide Rate');\n",
        "plt.ylabel('CDF');\n",
        "plt.title('Distribution of suicide rate');"
      ],
      "execution_count": null,
      "outputs": [
        {
          "output_type": "display_data",
          "data": {
            "image/png": "[encoded data removed]",
            "text/plain": [
              "<Figure size 432x288 with 1 Axes>"
            ]
          },
          "metadata": {
            "tags": [],
            "needs_background": "light"
          }
        }
      ]
    },
    {
      "cell_type": "code",
      "metadata": {
        "colab": {
          "base_uri": "https://localhost:8080/"
        },
        "id": "7HX0bUt0sOow",
        "outputId": "cbe21066-79c9-4e90-a76a-d39610236a03"
      },
      "source": [
        "q = 30\n",
        "p = s_rate_cdf(q)\n",
        "p"
      ],
      "execution_count": null,
      "outputs": [
        {
          "output_type": "execute_result",
          "data": {
            "text/plain": [
              "array(0.97139765)"
            ]
          },
          "metadata": {
            "tags": []
          },
          "execution_count": 47
        }
      ]
    },
    {
      "cell_type": "markdown",
      "metadata": {
        "id": "iExrvtFbtxPz"
      },
      "source": [
        "From the CDF above, we can say that from the suicide rates presented in the data, about 97% of countries have a suicide rate of 30% or lower."
      ]
    },
    {
      "cell_type": "markdown",
      "metadata": {
        "id": "XfIdKOcAvMuo"
      },
      "source": [
        "### GDP Data"
      ]
    },
    {
      "cell_type": "code",
      "metadata": {
        "id": "NTRk1z3ztq6w"
      },
      "source": [
        "import os\n",
        "\n",
        "if not os.path.exists('gdp-per-capita-worldbank.csv'):\n",
        "  !wget https://github.com/tamisha-dzifa/DSProject2/raw/master/gdp-per-capita-worldbank.csv"
      ],
      "execution_count": null,
      "outputs": []
    },
    {
      "cell_type": "code",
      "metadata": {
        "id": "NTUwKJOJvlKe",
        "colab": {
          "base_uri": "https://localhost:8080/",
          "height": 204
        },
        "outputId": "0ea2c708-a59c-4c8c-be7a-344ecf1bbbea"
      },
      "source": [
        "gdp = pd.read_csv('gdp-per-capita-worldbank.csv')\n",
        "gdp.head()"
      ],
      "execution_count": null,
      "outputs": [
        {
          "output_type": "execute_result",
          "data": {
            "text/html": [
              "<div>\n",
              "<style scoped>\n",
              "    .dataframe tbody tr th:only-of-type {\n",
              "        vertical-align: middle;\n",
              "    }\n",
              "\n",
              "    .dataframe tbody tr th {\n",
              "        vertical-align: top;\n",
              "    }\n",
              "\n",
              "    .dataframe thead th {\n",
              "        text-align: right;\n",
              "    }\n",
              "</style>\n",
              "<table border=\"1\" class=\"dataframe\">\n",
              "  <thead>\n",
              "    <tr style=\"text-align: right;\">\n",
              "      <th></th>\n",
              "      <th>Entity</th>\n",
              "      <th>Code</th>\n",
              "      <th>Year</th>\n",
              "      <th>GDP per capita, PPP (constant 2011 international $)</th>\n",
              "    </tr>\n",
              "  </thead>\n",
              "  <tbody>\n",
              "    <tr>\n",
              "      <th>0</th>\n",
              "      <td>Afghanistan</td>\n",
              "      <td>AFG</td>\n",
              "      <td>2002</td>\n",
              "      <td>1063.635574</td>\n",
              "    </tr>\n",
              "    <tr>\n",
              "      <th>1</th>\n",
              "      <td>Afghanistan</td>\n",
              "      <td>AFG</td>\n",
              "      <td>2003</td>\n",
              "      <td>1099.194507</td>\n",
              "    </tr>\n",
              "    <tr>\n",
              "      <th>2</th>\n",
              "      <td>Afghanistan</td>\n",
              "      <td>AFG</td>\n",
              "      <td>2004</td>\n",
              "      <td>1062.249360</td>\n",
              "    </tr>\n",
              "    <tr>\n",
              "      <th>3</th>\n",
              "      <td>Afghanistan</td>\n",
              "      <td>AFG</td>\n",
              "      <td>2005</td>\n",
              "      <td>1136.123214</td>\n",
              "    </tr>\n",
              "    <tr>\n",
              "      <th>4</th>\n",
              "      <td>Afghanistan</td>\n",
              "      <td>AFG</td>\n",
              "      <td>2006</td>\n",
              "      <td>1161.124889</td>\n",
              "    </tr>\n",
              "  </tbody>\n",
              "</table>\n",
              "</div>"
            ],
            "text/plain": [
              "        Entity Code  Year  GDP per capita, PPP (constant 2011 international $)\n",
              "0  Afghanistan  AFG  2002                                        1063.635574  \n",
              "1  Afghanistan  AFG  2003                                        1099.194507  \n",
              "2  Afghanistan  AFG  2004                                        1062.249360  \n",
              "3  Afghanistan  AFG  2005                                        1136.123214  \n",
              "4  Afghanistan  AFG  2006                                        1161.124889  "
            ]
          },
          "metadata": {
            "tags": []
          },
          "execution_count": 49
        }
      ]
    },
    {
      "cell_type": "markdown",
      "metadata": {
        "id": "GrnnSZDgv0tS"
      },
      "source": [
        "Renaming the last column as `GDP per capita`."
      ]
    },
    {
      "cell_type": "code",
      "metadata": {
        "id": "jQkPrYHkvq1w",
        "colab": {
          "base_uri": "https://localhost:8080/",
          "height": 204
        },
        "outputId": "d7b1c497-6475-4390-e743-3d2e64272cea"
      },
      "source": [
        "gdp.columns = ['Entity', 'Code', 'Year', 'GDP per capita']\n",
        "gdp.head()"
      ],
      "execution_count": null,
      "outputs": [
        {
          "output_type": "execute_result",
          "data": {
            "text/html": [
              "<div>\n",
              "<style scoped>\n",
              "    .dataframe tbody tr th:only-of-type {\n",
              "        vertical-align: middle;\n",
              "    }\n",
              "\n",
              "    .dataframe tbody tr th {\n",
              "        vertical-align: top;\n",
              "    }\n",
              "\n",
              "    .dataframe thead th {\n",
              "        text-align: right;\n",
              "    }\n",
              "</style>\n",
              "<table border=\"1\" class=\"dataframe\">\n",
              "  <thead>\n",
              "    <tr style=\"text-align: right;\">\n",
              "      <th></th>\n",
              "      <th>Entity</th>\n",
              "      <th>Code</th>\n",
              "      <th>Year</th>\n",
              "      <th>GDP per capita</th>\n",
              "    </tr>\n",
              "  </thead>\n",
              "  <tbody>\n",
              "    <tr>\n",
              "      <th>0</th>\n",
              "      <td>Afghanistan</td>\n",
              "      <td>AFG</td>\n",
              "      <td>2002</td>\n",
              "      <td>1063.635574</td>\n",
              "    </tr>\n",
              "    <tr>\n",
              "      <th>1</th>\n",
              "      <td>Afghanistan</td>\n",
              "      <td>AFG</td>\n",
              "      <td>2003</td>\n",
              "      <td>1099.194507</td>\n",
              "    </tr>\n",
              "    <tr>\n",
              "      <th>2</th>\n",
              "      <td>Afghanistan</td>\n",
              "      <td>AFG</td>\n",
              "      <td>2004</td>\n",
              "      <td>1062.249360</td>\n",
              "    </tr>\n",
              "    <tr>\n",
              "      <th>3</th>\n",
              "      <td>Afghanistan</td>\n",
              "      <td>AFG</td>\n",
              "      <td>2005</td>\n",
              "      <td>1136.123214</td>\n",
              "    </tr>\n",
              "    <tr>\n",
              "      <th>4</th>\n",
              "      <td>Afghanistan</td>\n",
              "      <td>AFG</td>\n",
              "      <td>2006</td>\n",
              "      <td>1161.124889</td>\n",
              "    </tr>\n",
              "  </tbody>\n",
              "</table>\n",
              "</div>"
            ],
            "text/plain": [
              "        Entity Code  Year  GDP per capita\n",
              "0  Afghanistan  AFG  2002     1063.635574\n",
              "1  Afghanistan  AFG  2003     1099.194507\n",
              "2  Afghanistan  AFG  2004     1062.249360\n",
              "3  Afghanistan  AFG  2005     1136.123214\n",
              "4  Afghanistan  AFG  2006     1161.124889"
            ]
          },
          "metadata": {
            "tags": []
          },
          "execution_count": 50
        }
      ]
    },
    {
      "cell_type": "code",
      "metadata": {
        "id": "iKA-qhZdv-Bz",
        "colab": {
          "base_uri": "https://localhost:8080/"
        },
        "outputId": "bbee5568-1e15-4a2b-c7d5-689767f6106b"
      },
      "source": [
        "gdp.shape"
      ],
      "execution_count": null,
      "outputs": [
        {
          "output_type": "execute_result",
          "data": {
            "text/plain": [
              "(6407, 4)"
            ]
          },
          "metadata": {
            "tags": []
          },
          "execution_count": 51
        }
      ]
    },
    {
      "cell_type": "code",
      "metadata": {
        "id": "dFNMKysFwAUp",
        "colab": {
          "base_uri": "https://localhost:8080/"
        },
        "outputId": "be61f998-8810-4952-d595-0e9d5f94b7f5"
      },
      "source": [
        "gdp_entity = gdp['Entity']\n",
        "gdp_entity.value_counts().sort_index()"
      ],
      "execution_count": null,
      "outputs": [
        {
          "output_type": "execute_result",
          "data": {
            "text/plain": [
              "Afghanistan            16\n",
              "Albania                28\n",
              "Algeria                28\n",
              "Angola                 28\n",
              "Antigua and Barbuda    28\n",
              "                       ..\n",
              "Vietnam                28\n",
              "World                  28\n",
              "Yemen                  27\n",
              "Zambia                 28\n",
              "Zimbabwe               28\n",
              "Name: Entity, Length: 241, dtype: int64"
            ]
          },
          "metadata": {
            "tags": []
          },
          "execution_count": 52
        }
      ]
    },
    {
      "cell_type": "markdown",
      "metadata": {
        "id": "cgzLvZovwIjo"
      },
      "source": [
        "Unlike in the suicide data where each of the enntities had the same number of entries, there are some missing values in this dataset for some countries."
      ]
    },
    {
      "cell_type": "code",
      "metadata": {
        "id": "Xjq0kKprwHOV",
        "colab": {
          "base_uri": "https://localhost:8080/"
        },
        "outputId": "e92c89ba-9af0-4fc7-d3f4-f287bae02bd6"
      },
      "source": [
        "gdp_entity.isna().sum()"
      ],
      "execution_count": null,
      "outputs": [
        {
          "output_type": "execute_result",
          "data": {
            "text/plain": [
              "0"
            ]
          },
          "metadata": {
            "tags": []
          },
          "execution_count": 53
        }
      ]
    },
    {
      "cell_type": "code",
      "metadata": {
        "id": "VVQ4UJNmwTzj",
        "colab": {
          "base_uri": "https://localhost:8080/"
        },
        "outputId": "ded2d614-aedf-45f9-8ed1-2ed7a2c3617a"
      },
      "source": [
        "gdp['GDP per capita'].isna().sum()"
      ],
      "execution_count": null,
      "outputs": [
        {
          "output_type": "execute_result",
          "data": {
            "text/plain": [
              "0"
            ]
          },
          "metadata": {
            "tags": []
          },
          "execution_count": 54
        }
      ]
    },
    {
      "cell_type": "markdown",
      "metadata": {
        "id": "JcaJBJjgwZXm"
      },
      "source": [
        "These 'missing' values don't show as N/A but they are still missing as far as the number of data points is concerned."
      ]
    },
    {
      "cell_type": "code",
      "metadata": {
        "id": "s6q7DlORwYMg",
        "colab": {
          "base_uri": "https://localhost:8080/"
        },
        "outputId": "dbafbcc3-eea8-4c94-804a-ac5008e25815"
      },
      "source": [
        "gdp_p_c = gdp['GDP per capita']\n",
        "gdp_p_c.describe()"
      ],
      "execution_count": null,
      "outputs": [
        {
          "output_type": "execute_result",
          "data": {
            "text/plain": [
              "count      6407.000000\n",
              "mean      14926.095591\n",
              "std       17739.754531\n",
              "min         247.436540\n",
              "25%        3021.071807\n",
              "50%        8447.264179\n",
              "75%       19607.537075\n",
              "max      135318.754421\n",
              "Name: GDP per capita, dtype: float64"
            ]
          },
          "metadata": {
            "tags": []
          },
          "execution_count": 55
        }
      ]
    },
    {
      "cell_type": "markdown",
      "metadata": {
        "id": "9W-exfaHwuKC"
      },
      "source": [
        "Here, we realize that there are 6407 entries for GDP and 6468 entries for suicide rate. This is something we will have to look into and decide what to do."
      ]
    },
    {
      "cell_type": "code",
      "metadata": {
        "id": "pWbFxYg7wnRK"
      },
      "source": [
        "cdf_gdp = Cdf.from_seq(gdp_p_c)"
      ],
      "execution_count": null,
      "outputs": []
    },
    {
      "cell_type": "code",
      "metadata": {
        "id": "fxjEMDc1w8Wa",
        "colab": {
          "base_uri": "https://localhost:8080/",
          "height": 319
        },
        "outputId": "1e4256ae-7789-423e-8a2f-dff05bc7e85b"
      },
      "source": [
        "cdf_gdp.plot()\n",
        "plt.xlabel('GDP per capita');\n",
        "plt.ylabel('CDF');\n",
        "plt.title('Distribution of GDP per capita');\n",
        "plt.xticks(rotation=45);"
      ],
      "execution_count": null,
      "outputs": [
        {
          "output_type": "display_data",
          "data": {
            "image/png": "[encoded data removed]",
            "text/plain": [
              "<Figure size 432x288 with 1 Axes>"
            ]
          },
          "metadata": {
            "tags": [],
            "needs_background": "light"
          }
        }
      ]
    },
    {
      "cell_type": "code",
      "metadata": {
        "id": "cU_RvSNQw_Eb",
        "colab": {
          "base_uri": "https://localhost:8080/"
        },
        "outputId": "92dcc8a3-ec32-4122-93fb-b4d8b35b045f"
      },
      "source": [
        "q = 14926  # the mean from the summary statistics\n",
        "p = cdf_gdp(q)\n",
        "p"
      ],
      "execution_count": null,
      "outputs": [
        {
          "output_type": "execute_result",
          "data": {
            "text/plain": [
              "array(0.68487592)"
            ]
          },
          "metadata": {
            "tags": []
          },
          "execution_count": 58
        }
      ]
    },
    {
      "cell_type": "markdown",
      "metadata": {
        "id": "Dz7SdyKmyKYF"
      },
      "source": [
        "From the CDF above, we can say that from the GDP per capita values presented in the data, about 68% of countries have a GDP per capita of the mean value, $14926 (2011 international dollars), or below."
      ]
    },
    {
      "cell_type": "markdown",
      "metadata": {
        "id": "0PRiWlzszKXt"
      },
      "source": [
        "### Mean years of schooling (long run)"
      ]
    },
    {
      "cell_type": "code",
      "metadata": {
        "id": "DR7F5PN4x4L3",
        "colab": {
          "base_uri": "https://localhost:8080/"
        },
        "outputId": "fa3d3ea9-8af6-4c24-9732-8a554baada90"
      },
      "source": [
        "import os\n",
        "\n",
        "if not os.path.exists('mean-years-of-schooling-long-run.csv'):\n",
        "  !wget https://github.com/tamisha-dzifa/DSProject2/raw/master/mean-years-of-schooling-long-run.csv"
      ],
      "execution_count": null,
      "outputs": [
        {
          "output_type": "stream",
          "text": [
            "--2020-11-17 20:03:13--  https://github.com/tamisha-dzifa/DSProject2/raw/master/mean-years-of-schooling-long-run.csv\n",
            "Resolving github.com (github.com)... 140.82.112.4\n",
            "Connecting to github.com (github.com)|140.82.112.4|:443... connected.\n",
            "HTTP request sent, awaiting response... 302 Found\n",
            "Location: https://raw.githubusercontent.com/tamisha-dzifa/DSProject2/master/mean-years-of-schooling-long-run.csv [following]\n",
            "--2020-11-17 20:03:13--  https://raw.githubusercontent.com/tamisha-dzifa/DSProject2/master/mean-years-of-schooling-long-run.csv\n",
            "Resolving raw.githubusercontent.com (raw.githubusercontent.com)... 151.101.0.133, 151.101.64.133, 151.101.128.133, ...\n",
            "Connecting to raw.githubusercontent.com (raw.githubusercontent.com)|151.101.0.133|:443... connected.\n",
            "HTTP request sent, awaiting response... 200 OK\n",
            "Length: 174763 (171K) [text/plain]\n",
            "Saving to: ‘mean-years-of-schooling-long-run.csv’\n",
            "\n",
            "mean-years-of-schoo 100%[===================>] 170.67K  --.-KB/s    in 0.03s   \n",
            "\n",
            "2020-11-17 20:03:14 (5.29 MB/s) - ‘mean-years-of-schooling-long-run.csv’ saved [174763/174763]\n",
            "\n"
          ],
          "name": "stdout"
        }
      ]
    },
    {
      "cell_type": "code",
      "metadata": {
        "colab": {
          "base_uri": "https://localhost:8080/",
          "height": 204
        },
        "id": "3cVuoorxzdab",
        "outputId": "ccd3e336-6093-4d44-cd02-dc3fe88111f9"
      },
      "source": [
        "school = pd.read_csv('mean-years-of-schooling-long-run.csv')\n",
        "school.head()"
      ],
      "execution_count": null,
      "outputs": [
        {
          "output_type": "execute_result",
          "data": {
            "text/html": [
              "<div>\n",
              "<style scoped>\n",
              "    .dataframe tbody tr th:only-of-type {\n",
              "        vertical-align: middle;\n",
              "    }\n",
              "\n",
              "    .dataframe tbody tr th {\n",
              "        vertical-align: top;\n",
              "    }\n",
              "\n",
              "    .dataframe thead th {\n",
              "        text-align: right;\n",
              "    }\n",
              "</style>\n",
              "<table border=\"1\" class=\"dataframe\">\n",
              "  <thead>\n",
              "    <tr style=\"text-align: right;\">\n",
              "      <th></th>\n",
              "      <th>Entity</th>\n",
              "      <th>Code</th>\n",
              "      <th>Year</th>\n",
              "      <th>Average Total Years of Schooling for Adult Population (Lee-Lee (2016), Barro-Lee (2018) and UNDP (2018))</th>\n",
              "    </tr>\n",
              "  </thead>\n",
              "  <tbody>\n",
              "    <tr>\n",
              "      <th>0</th>\n",
              "      <td>Afghanistan</td>\n",
              "      <td>AFG</td>\n",
              "      <td>1870</td>\n",
              "      <td>0.01</td>\n",
              "    </tr>\n",
              "    <tr>\n",
              "      <th>1</th>\n",
              "      <td>Afghanistan</td>\n",
              "      <td>AFG</td>\n",
              "      <td>1875</td>\n",
              "      <td>0.01</td>\n",
              "    </tr>\n",
              "    <tr>\n",
              "      <th>2</th>\n",
              "      <td>Afghanistan</td>\n",
              "      <td>AFG</td>\n",
              "      <td>1880</td>\n",
              "      <td>0.01</td>\n",
              "    </tr>\n",
              "    <tr>\n",
              "      <th>3</th>\n",
              "      <td>Afghanistan</td>\n",
              "      <td>AFG</td>\n",
              "      <td>1885</td>\n",
              "      <td>0.01</td>\n",
              "    </tr>\n",
              "    <tr>\n",
              "      <th>4</th>\n",
              "      <td>Afghanistan</td>\n",
              "      <td>AFG</td>\n",
              "      <td>1890</td>\n",
              "      <td>0.01</td>\n",
              "    </tr>\n",
              "  </tbody>\n",
              "</table>\n",
              "</div>"
            ],
            "text/plain": [
              "        Entity  ... Average Total Years of Schooling for Adult Population (Lee-Lee (2016), Barro-Lee (2018) and UNDP (2018))\n",
              "0  Afghanistan  ...                                               0.01                                                      \n",
              "1  Afghanistan  ...                                               0.01                                                      \n",
              "2  Afghanistan  ...                                               0.01                                                      \n",
              "3  Afghanistan  ...                                               0.01                                                      \n",
              "4  Afghanistan  ...                                               0.01                                                      \n",
              "\n",
              "[5 rows x 4 columns]"
            ]
          },
          "metadata": {
            "tags": []
          },
          "execution_count": 61
        }
      ]
    },
    {
      "cell_type": "markdown",
      "metadata": {
        "id": "yi68xkzTzzJB"
      },
      "source": [
        "Renaming last column as `Average Total Years of School`"
      ]
    },
    {
      "cell_type": "code",
      "metadata": {
        "colab": {
          "base_uri": "https://localhost:8080/",
          "height": 204
        },
        "id": "5DIXM7fBzna7",
        "outputId": "ca684732-3f5d-4ca6-cfe8-a9dd7b2124a3"
      },
      "source": [
        "school.columns = ['Entity', 'Code', 'Year', 'Average Total Years of School']\n",
        "school.head()"
      ],
      "execution_count": null,
      "outputs": [
        {
          "output_type": "execute_result",
          "data": {
            "text/html": [
              "<div>\n",
              "<style scoped>\n",
              "    .dataframe tbody tr th:only-of-type {\n",
              "        vertical-align: middle;\n",
              "    }\n",
              "\n",
              "    .dataframe tbody tr th {\n",
              "        vertical-align: top;\n",
              "    }\n",
              "\n",
              "    .dataframe thead th {\n",
              "        text-align: right;\n",
              "    }\n",
              "</style>\n",
              "<table border=\"1\" class=\"dataframe\">\n",
              "  <thead>\n",
              "    <tr style=\"text-align: right;\">\n",
              "      <th></th>\n",
              "      <th>Entity</th>\n",
              "      <th>Code</th>\n",
              "      <th>Year</th>\n",
              "      <th>Average Total Years of School</th>\n",
              "    </tr>\n",
              "  </thead>\n",
              "  <tbody>\n",
              "    <tr>\n",
              "      <th>0</th>\n",
              "      <td>Afghanistan</td>\n",
              "      <td>AFG</td>\n",
              "      <td>1870</td>\n",
              "      <td>0.01</td>\n",
              "    </tr>\n",
              "    <tr>\n",
              "      <th>1</th>\n",
              "      <td>Afghanistan</td>\n",
              "      <td>AFG</td>\n",
              "      <td>1875</td>\n",
              "      <td>0.01</td>\n",
              "    </tr>\n",
              "    <tr>\n",
              "      <th>2</th>\n",
              "      <td>Afghanistan</td>\n",
              "      <td>AFG</td>\n",
              "      <td>1880</td>\n",
              "      <td>0.01</td>\n",
              "    </tr>\n",
              "    <tr>\n",
              "      <th>3</th>\n",
              "      <td>Afghanistan</td>\n",
              "      <td>AFG</td>\n",
              "      <td>1885</td>\n",
              "      <td>0.01</td>\n",
              "    </tr>\n",
              "    <tr>\n",
              "      <th>4</th>\n",
              "      <td>Afghanistan</td>\n",
              "      <td>AFG</td>\n",
              "      <td>1890</td>\n",
              "      <td>0.01</td>\n",
              "    </tr>\n",
              "  </tbody>\n",
              "</table>\n",
              "</div>"
            ],
            "text/plain": [
              "        Entity Code  Year  Average Total Years of School\n",
              "0  Afghanistan  AFG  1870                           0.01\n",
              "1  Afghanistan  AFG  1875                           0.01\n",
              "2  Afghanistan  AFG  1880                           0.01\n",
              "3  Afghanistan  AFG  1885                           0.01\n",
              "4  Afghanistan  AFG  1890                           0.01"
            ]
          },
          "metadata": {
            "tags": []
          },
          "execution_count": 63
        }
      ]
    },
    {
      "cell_type": "code",
      "metadata": {
        "colab": {
          "base_uri": "https://localhost:8080/"
        },
        "id": "nJYjiC8Sz8ZE",
        "outputId": "eb97788d-343f-4547-e832-cfd6e3c80859"
      },
      "source": [
        "school.shape"
      ],
      "execution_count": null,
      "outputs": [
        {
          "output_type": "execute_result",
          "data": {
            "text/plain": [
              "(7763, 4)"
            ]
          },
          "metadata": {
            "tags": []
          },
          "execution_count": 64
        }
      ]
    },
    {
      "cell_type": "markdown",
      "metadata": {
        "id": "T0XcVuP40HLD"
      },
      "source": [
        "There are considerably more data points here than there are in the other two data sets. It would probably be worth it to take only the years that are needed."
      ]
    },
    {
      "cell_type": "code",
      "metadata": {
        "colab": {
          "base_uri": "https://localhost:8080/"
        },
        "id": "9BQO5GGC0GIu",
        "outputId": "34aee7fd-8461-4be2-b470-52031928f6da"
      },
      "source": [
        "school['Entity'].value_counts().sort_index()"
      ],
      "execution_count": null,
      "outputs": [
        {
          "output_type": "execute_result",
          "data": {
            "text/plain": [
              "Afghanistan    52\n",
              "Albania        52\n",
              "Algeria        52\n",
              "Andorra        18\n",
              "Angola         19\n",
              "               ..\n",
              "Venezuela      52\n",
              "Vietnam        36\n",
              "Yemen          52\n",
              "Zambia         52\n",
              "Zimbabwe       52\n",
              "Name: Entity, Length: 193, dtype: int64"
            ]
          },
          "metadata": {
            "tags": []
          },
          "execution_count": 65
        }
      ]
    },
    {
      "cell_type": "code",
      "metadata": {
        "colab": {
          "base_uri": "https://localhost:8080/"
        },
        "id": "M1TI9ygs0c6I",
        "outputId": "5226cd0d-f14a-494a-8d23-82529add8dae"
      },
      "source": [
        "school['Entity'].isna().sum()"
      ],
      "execution_count": null,
      "outputs": [
        {
          "output_type": "execute_result",
          "data": {
            "text/plain": [
              "0"
            ]
          },
          "metadata": {
            "tags": []
          },
          "execution_count": 66
        }
      ]
    },
    {
      "cell_type": "code",
      "metadata": {
        "colab": {
          "base_uri": "https://localhost:8080/"
        },
        "id": "IwXqyTxZ0rId",
        "outputId": "1a6b98d4-db05-4a46-eac2-5b3e512355a4"
      },
      "source": [
        "school['Average Total Years of School'].isna().sum()"
      ],
      "execution_count": null,
      "outputs": [
        {
          "output_type": "execute_result",
          "data": {
            "text/plain": [
              "0"
            ]
          },
          "metadata": {
            "tags": []
          },
          "execution_count": 68
        }
      ]
    },
    {
      "cell_type": "markdown",
      "metadata": {
        "id": "9mmnTEli1Y5w"
      },
      "source": [
        "As with the previous two data sets, there are no obvious NA values. Still, some entities have fewer entries than others."
      ]
    },
    {
      "cell_type": "code",
      "metadata": {
        "colab": {
          "base_uri": "https://localhost:8080/"
        },
        "id": "KzjuHmrN1UXZ",
        "outputId": "b62e8d57-df8c-46ea-8b42-ec1687f05774"
      },
      "source": [
        "avg_years = school['Average Total Years of School']\n",
        "avg_years.describe()"
      ],
      "execution_count": null,
      "outputs": [
        {
          "output_type": "execute_result",
          "data": {
            "text/plain": [
              "count    7763.000000\n",
              "mean        5.479349\n",
              "std         3.849849\n",
              "min         0.000000\n",
              "25%         2.090000\n",
              "50%         5.200000\n",
              "75%         8.700000\n",
              "max        14.100000\n",
              "Name: Average Total Years of School, dtype: float64"
            ]
          },
          "metadata": {
            "tags": []
          },
          "execution_count": 69
        }
      ]
    },
    {
      "cell_type": "code",
      "metadata": {
        "colab": {
          "base_uri": "https://localhost:8080/",
          "height": 295
        },
        "id": "u0xy-hxY3oxO",
        "outputId": "7f010e2e-f78a-443a-fc92-0015f297e363"
      },
      "source": [
        "cdf_avg_years = Cdf.from_seq(avg_years)\n",
        "cdf_avg_years.plot();\n",
        "plt.xlabel('Average total years of school for adult population');\n",
        "plt.ylabel('CDF');\n",
        "plt.title('Distribution of average total years of school for adult population');"
      ],
      "execution_count": null,
      "outputs": [
        {
          "output_type": "display_data",
          "data": {
            "image/png": "[encoded data removed]",
            "text/plain": [
              "<Figure size 432x288 with 1 Axes>"
            ]
          },
          "metadata": {
            "tags": [],
            "needs_background": "light"
          }
        }
      ]
    },
    {
      "cell_type": "markdown",
      "metadata": {
        "id": "wDES8QWj4DVn"
      },
      "source": [
        "This CDF doesn't look as expected (i.e. a smooth sigmoid curve). Let's try a histogram."
      ]
    },
    {
      "cell_type": "code",
      "metadata": {
        "colab": {
          "base_uri": "https://localhost:8080/",
          "height": 295
        },
        "id": "ew-9gIBK4AU-",
        "outputId": "1b63239e-2fb6-442d-e533-4e9e4a2044d7"
      },
      "source": [
        "plt.hist(avg_years, bins=20);\n",
        "plt.xlabel('Average total school years for adult population');\n",
        "plt.ylabel('Number of entities');\n",
        "plt.title('Histogram of average total school years for adult population');"
      ],
      "execution_count": null,
      "outputs": [
        {
          "output_type": "display_data",
          "data": {
            "image/png": "[encoded data removed]",
            "text/plain": [
              "<Figure size 432x288 with 1 Axes>"
            ]
          },
          "metadata": {
            "tags": [],
            "needs_background": "light"
          }
        }
      ]
    },
    {
      "cell_type": "markdown",
      "metadata": {
        "id": "6NLxms5u4WGb"
      },
      "source": [
        "This histogram looks a bit better than the CDF in that we can easily see the mode. However, this should be taken with a grain of salt because it includes multiple entities and their different values over the years."
      ]
    },
    {
      "cell_type": "code",
      "metadata": {
        "id": "8rN6ky3F4PmD"
      },
      "source": [
        ""
      ],
      "execution_count": null,
      "outputs": []
    }
  ]
}