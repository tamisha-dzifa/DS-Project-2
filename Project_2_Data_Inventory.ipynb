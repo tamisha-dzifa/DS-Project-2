{
  "nbformat": 4,
  "nbformat_minor": 0,
  "metadata": {
    "colab": {
      "name": "Project 2.ipynb",
      "provenance": [],
      "collapsed_sections": [],
      "authorship_tag": "ABX9TyNNIc6YfmGFuhtK0BFzKMO6",
      "include_colab_link": true
    },
    "kernelspec": {
      "display_name": "Python 3",
      "language": "python",
      "name": "python3"
    },
    "language_info": {
      "codemirror_mode": {
        "name": "ipython",
        "version": 3
      },
      "file_extension": ".py",
      "mimetype": "text/x-python",
      "name": "python",
      "nbconvert_exporter": "python",
      "pygments_lexer": "ipython3",
      "version": "3.7.6"
    }
  },
  "cells": [
    {
      "cell_type": "markdown",
      "metadata": {
        "id": "view-in-github",
        "colab_type": "text"
      },
      "source": [
        "<a href=\"https://colab.research.google.com/github/tamisha-dzifa/DSProject2/blob/master/Project_2_Data_Inventory.ipynb\" target=\"_parent\"><img src=\"https://colab.research.google.com/assets/colab-badge.svg\" alt=\"Open In Colab\"/></a>"
      ]
    },
    {
      "cell_type": "code",
      "metadata": {
        "id": "xixeZqQTN_-y"
      },
      "source": [
        "import pandas as pd"
      ],
      "execution_count": 1,
      "outputs": []
    },
    {
      "cell_type": "markdown",
      "metadata": {
        "id": "l7nKRvWYvCgU"
      },
      "source": [
        "### Suicide Rates"
      ]
    },
    {
      "cell_type": "code",
      "metadata": {
        "colab": {
          "base_uri": "https://localhost:8080/"
        },
        "id": "5bL2ULcjpyl3",
        "outputId": "a1fda427-b9b1-410f-e9af-f538ff9a5bf1"
      },
      "source": [
        "import os\n",
        "\n",
        "if not os.path.exists('suicide-death-rates.csv'):\n",
        "  !wget https://github.com/tamisha-dzifa/DSProject2/raw/master/suicide-death-rates.csv"
      ],
      "execution_count": 2,
      "outputs": [
        {
          "output_type": "stream",
          "text": [
            "--2020-11-17 19:44:15--  https://github.com/tamisha-dzifa/DSProject2/raw/master/suicide-death-rates.csv\n",
            "Resolving github.com (github.com)... 140.82.112.4\n",
            "Connecting to github.com (github.com)|140.82.112.4|:443... connected.\n",
            "HTTP request sent, awaiting response... 302 Found\n",
            "Location: https://raw.githubusercontent.com/tamisha-dzifa/DSProject2/master/suicide-death-rates.csv [following]\n",
            "--2020-11-17 19:44:15--  https://raw.githubusercontent.com/tamisha-dzifa/DSProject2/master/suicide-death-rates.csv\n",
            "Resolving raw.githubusercontent.com (raw.githubusercontent.com)... 151.101.0.133, 151.101.64.133, 151.101.128.133, ...\n",
            "Connecting to raw.githubusercontent.com (raw.githubusercontent.com)|151.101.0.133|:443... connected.\n",
            "HTTP request sent, awaiting response... 200 OK\n",
            "Length: 245130 (239K) [text/plain]\n",
            "Saving to: ‘suicide-death-rates.csv’\n",
            "\n",
            "suicide-death-rates 100%[===================>] 239.38K  --.-KB/s    in 0.04s   \n",
            "\n",
            "2020-11-17 19:44:15 (6.65 MB/s) - ‘suicide-death-rates.csv’ saved [245130/245130]\n",
            "\n"
          ],
          "name": "stdout"
        }
      ]
    },
    {
      "cell_type": "code",
      "metadata": {
        "colab": {
          "base_uri": "https://localhost:8080/",
          "height": 204
        },
        "id": "D9cSEn3iqA6x",
        "outputId": "eebbed2f-ad3f-4b4c-c990-2c7e14ef0a28"
      },
      "source": [
        "suicide = pd.read_csv('suicide-death-rates.csv')\n",
        "suicide.head()"
      ],
      "execution_count": 3,
      "outputs": [
        {
          "output_type": "execute_result",
          "data": {
            "text/html": [
              "<div>\n",
              "<style scoped>\n",
              "    .dataframe tbody tr th:only-of-type {\n",
              "        vertical-align: middle;\n",
              "    }\n",
              "\n",
              "    .dataframe tbody tr th {\n",
              "        vertical-align: top;\n",
              "    }\n",
              "\n",
              "    .dataframe thead th {\n",
              "        text-align: right;\n",
              "    }\n",
              "</style>\n",
              "<table border=\"1\" class=\"dataframe\">\n",
              "  <thead>\n",
              "    <tr style=\"text-align: right;\">\n",
              "      <th></th>\n",
              "      <th>Entity</th>\n",
              "      <th>Code</th>\n",
              "      <th>Year</th>\n",
              "      <th>Deaths - Self-harm - Sex: Both - Age: Age-standardized (Rate)</th>\n",
              "    </tr>\n",
              "  </thead>\n",
              "  <tbody>\n",
              "    <tr>\n",
              "      <th>0</th>\n",
              "      <td>Afghanistan</td>\n",
              "      <td>AFG</td>\n",
              "      <td>1990</td>\n",
              "      <td>10.318504</td>\n",
              "    </tr>\n",
              "    <tr>\n",
              "      <th>1</th>\n",
              "      <td>Afghanistan</td>\n",
              "      <td>AFG</td>\n",
              "      <td>1991</td>\n",
              "      <td>10.327010</td>\n",
              "    </tr>\n",
              "    <tr>\n",
              "      <th>2</th>\n",
              "      <td>Afghanistan</td>\n",
              "      <td>AFG</td>\n",
              "      <td>1992</td>\n",
              "      <td>10.271411</td>\n",
              "    </tr>\n",
              "    <tr>\n",
              "      <th>3</th>\n",
              "      <td>Afghanistan</td>\n",
              "      <td>AFG</td>\n",
              "      <td>1993</td>\n",
              "      <td>10.376123</td>\n",
              "    </tr>\n",
              "    <tr>\n",
              "      <th>4</th>\n",
              "      <td>Afghanistan</td>\n",
              "      <td>AFG</td>\n",
              "      <td>1994</td>\n",
              "      <td>10.575915</td>\n",
              "    </tr>\n",
              "  </tbody>\n",
              "</table>\n",
              "</div>"
            ],
            "text/plain": [
              "        Entity  ... Deaths - Self-harm - Sex: Both - Age: Age-standardized (Rate)\n",
              "0  Afghanistan  ...                                          10.318504           \n",
              "1  Afghanistan  ...                                          10.327010           \n",
              "2  Afghanistan  ...                                          10.271411           \n",
              "3  Afghanistan  ...                                          10.376123           \n",
              "4  Afghanistan  ...                                          10.575915           \n",
              "\n",
              "[5 rows x 4 columns]"
            ]
          },
          "metadata": {
            "tags": []
          },
          "execution_count": 3
        }
      ]
    },
    {
      "cell_type": "markdown",
      "metadata": {
        "id": "kbaAC01CqLiX"
      },
      "source": [
        "Renaming the last column as `Suicide Rate`."
      ]
    },
    {
      "cell_type": "code",
      "metadata": {
        "colab": {
          "base_uri": "https://localhost:8080/",
          "height": 204
        },
        "id": "Mv6ANokWqGV4",
        "outputId": "55f2c3a0-f59c-47de-a74b-ff23718cb4ae"
      },
      "source": [
        "suicide.columns = ['Entity', 'Code', 'Year', 'Suicide Rate']\n",
        "suicide.head()"
      ],
      "execution_count": 4,
      "outputs": [
        {
          "output_type": "execute_result",
          "data": {
            "text/html": [
              "<div>\n",
              "<style scoped>\n",
              "    .dataframe tbody tr th:only-of-type {\n",
              "        vertical-align: middle;\n",
              "    }\n",
              "\n",
              "    .dataframe tbody tr th {\n",
              "        vertical-align: top;\n",
              "    }\n",
              "\n",
              "    .dataframe thead th {\n",
              "        text-align: right;\n",
              "    }\n",
              "</style>\n",
              "<table border=\"1\" class=\"dataframe\">\n",
              "  <thead>\n",
              "    <tr style=\"text-align: right;\">\n",
              "      <th></th>\n",
              "      <th>Entity</th>\n",
              "      <th>Code</th>\n",
              "      <th>Year</th>\n",
              "      <th>Suicide Rate</th>\n",
              "    </tr>\n",
              "  </thead>\n",
              "  <tbody>\n",
              "    <tr>\n",
              "      <th>0</th>\n",
              "      <td>Afghanistan</td>\n",
              "      <td>AFG</td>\n",
              "      <td>1990</td>\n",
              "      <td>10.318504</td>\n",
              "    </tr>\n",
              "    <tr>\n",
              "      <th>1</th>\n",
              "      <td>Afghanistan</td>\n",
              "      <td>AFG</td>\n",
              "      <td>1991</td>\n",
              "      <td>10.327010</td>\n",
              "    </tr>\n",
              "    <tr>\n",
              "      <th>2</th>\n",
              "      <td>Afghanistan</td>\n",
              "      <td>AFG</td>\n",
              "      <td>1992</td>\n",
              "      <td>10.271411</td>\n",
              "    </tr>\n",
              "    <tr>\n",
              "      <th>3</th>\n",
              "      <td>Afghanistan</td>\n",
              "      <td>AFG</td>\n",
              "      <td>1993</td>\n",
              "      <td>10.376123</td>\n",
              "    </tr>\n",
              "    <tr>\n",
              "      <th>4</th>\n",
              "      <td>Afghanistan</td>\n",
              "      <td>AFG</td>\n",
              "      <td>1994</td>\n",
              "      <td>10.575915</td>\n",
              "    </tr>\n",
              "  </tbody>\n",
              "</table>\n",
              "</div>"
            ],
            "text/plain": [
              "        Entity Code  Year  Suicide Rate\n",
              "0  Afghanistan  AFG  1990     10.318504\n",
              "1  Afghanistan  AFG  1991     10.327010\n",
              "2  Afghanistan  AFG  1992     10.271411\n",
              "3  Afghanistan  AFG  1993     10.376123\n",
              "4  Afghanistan  AFG  1994     10.575915"
            ]
          },
          "metadata": {
            "tags": []
          },
          "execution_count": 4
        }
      ]
    },
    {
      "cell_type": "code",
      "metadata": {
        "colab": {
          "base_uri": "https://localhost:8080/"
        },
        "id": "ilVDvAZpqmvn",
        "outputId": "0a915f2c-783d-4906-832e-e3ec720ad34e"
      },
      "source": [
        "suicide.shape"
      ],
      "execution_count": 5,
      "outputs": [
        {
          "output_type": "execute_result",
          "data": {
            "text/plain": [
              "(6468, 4)"
            ]
          },
          "metadata": {
            "tags": []
          },
          "execution_count": 5
        }
      ]
    },
    {
      "cell_type": "code",
      "metadata": {
        "colab": {
          "base_uri": "https://localhost:8080/"
        },
        "id": "jyLw9zjGqsHE",
        "outputId": "61825352-ad82-443b-c64f-6693f4834e27"
      },
      "source": [
        "suicide_entity = suicide['Entity']\n",
        "suicide_entity.value_counts().sort_index()"
      ],
      "execution_count": 6,
      "outputs": [
        {
          "output_type": "execute_result",
          "data": {
            "text/plain": [
              "Afghanistan                   28\n",
              "Albania                       28\n",
              "Algeria                       28\n",
              "American Samoa                28\n",
              "Andean Latin America          28\n",
              "                              ..\n",
              "Western Sub-Saharan Africa    28\n",
              "World                         28\n",
              "Yemen                         28\n",
              "Zambia                        28\n",
              "Zimbabwe                      28\n",
              "Name: Entity, Length: 231, dtype: int64"
            ]
          },
          "metadata": {
            "tags": []
          },
          "execution_count": 6
        }
      ]
    },
    {
      "cell_type": "code",
      "metadata": {
        "colab": {
          "base_uri": "https://localhost:8080/"
        },
        "id": "1Ja13_rgrARv",
        "outputId": "858fb369-bc02-4933-8b9b-71ee8192b77e"
      },
      "source": [
        "suicide_entity.isna().sum()"
      ],
      "execution_count": 7,
      "outputs": [
        {
          "output_type": "execute_result",
          "data": {
            "text/plain": [
              "0"
            ]
          },
          "metadata": {
            "tags": []
          },
          "execution_count": 7
        }
      ]
    },
    {
      "cell_type": "code",
      "metadata": {
        "colab": {
          "base_uri": "https://localhost:8080/"
        },
        "id": "xqfIfThara0A",
        "outputId": "64e3ae5d-5e92-4ecb-8e33-7d7841c82afd"
      },
      "source": [
        "suicide['Suicide Rate'].isna().sum()"
      ],
      "execution_count": 8,
      "outputs": [
        {
          "output_type": "execute_result",
          "data": {
            "text/plain": [
              "0"
            ]
          },
          "metadata": {
            "tags": []
          },
          "execution_count": 8
        }
      ]
    },
    {
      "cell_type": "markdown",
      "metadata": {
        "id": "rknPCq_trfbx"
      },
      "source": [
        "There are no N/A values which is good."
      ]
    },
    {
      "cell_type": "code",
      "metadata": {
        "colab": {
          "base_uri": "https://localhost:8080/"
        },
        "id": "vL28K8Durefc",
        "outputId": "951aabff-ee0a-4be3-cb30-2c0555d40254"
      },
      "source": [
        "s_rate = suicide['Suicide Rate']\n",
        "s_rate.describe()"
      ],
      "execution_count": 9,
      "outputs": [
        {
          "output_type": "execute_result",
          "data": {
            "text/plain": [
              "count    6468.000000\n",
              "mean       12.068240\n",
              "std         8.037739\n",
              "min         1.526792\n",
              "25%         6.741737\n",
              "50%        10.668531\n",
              "75%        14.742472\n",
              "max        98.831696\n",
              "Name: Suicide Rate, dtype: float64"
            ]
          },
          "metadata": {
            "tags": []
          },
          "execution_count": 9
        }
      ]
    },
    {
      "cell_type": "code",
      "metadata": {
        "colab": {
          "base_uri": "https://localhost:8080/"
        },
        "id": "wUUTZZiQruWs",
        "outputId": "af2da04c-d8c8-40c7-9cb4-1c69b37104d5"
      },
      "source": [
        "import sys\n",
        "IN_COLAB = 'google.colab' in sys.modules\n",
        "\n",
        "if IN_COLAB:\n",
        "    !pip install empiricaldist"
      ],
      "execution_count": 10,
      "outputs": [
        {
          "output_type": "stream",
          "text": [
            "Collecting empiricaldist\n",
            "  Downloading https://files.pythonhosted.org/packages/c4/88/b6c44c1a5078224850473a8a6b82614d79147232113dd35e29de34b9ac8a/empiricaldist-0.3.9.tar.gz\n",
            "Building wheels for collected packages: empiricaldist\n",
            "  Building wheel for empiricaldist (setup.py) ... \u001b[?25l\u001b[?25hdone\n",
            "  Created wheel for empiricaldist: filename=empiricaldist-0.3.9-cp36-none-any.whl size=10157 sha256=dea2e099d1b9bd3e7f57d54ed9078ebaba3b4047c92208a2098ee6160a1eee9c\n",
            "  Stored in directory: /root/.cache/pip/wheels/bf/70/8c/55788f5a5806e6da295e5da80d2c0ef286d9a8260a1e3142e1\n",
            "Successfully built empiricaldist\n",
            "Installing collected packages: empiricaldist\n",
            "Successfully installed empiricaldist-0.3.9\n"
          ],
          "name": "stdout"
        }
      ]
    },
    {
      "cell_type": "code",
      "metadata": {
        "id": "tOcHfUEAr6Nx"
      },
      "source": [
        "from empiricaldist import Pmf, Cdf\n",
        "s_rate_cdf = Cdf.from_seq(s_rate)"
      ],
      "execution_count": 11,
      "outputs": []
    },
    {
      "cell_type": "code",
      "metadata": {
        "id": "Ug--VdoPr_V4"
      },
      "source": [
        "import matplotlib.pyplot as plt"
      ],
      "execution_count": 12,
      "outputs": []
    },
    {
      "cell_type": "code",
      "metadata": {
        "colab": {
          "base_uri": "https://localhost:8080/",
          "height": 295
        },
        "id": "irV19ORSsJrr",
        "outputId": "3c3e9fc9-adb4-4337-aa0e-68f312f1aea1"
      },
      "source": [
        "s_rate_cdf.plot()\n",
        "plt.xlabel('Suicide Rate');\n",
        "plt.ylabel('CDF');\n",
        "plt.title('Distribution of suicide rate');"
      ],
      "execution_count": 13,
      "outputs": [
        {
          "output_type": "display_data",
          "data": {
            "image/png": "[encoded data removed]",
            "text/plain": [
              "<Figure size 432x288 with 1 Axes>"
            ]
          },
          "metadata": {
            "tags": [],
            "needs_background": "light"
          }
        }
      ]
    },
    {
      "cell_type": "code",
      "metadata": {
        "colab": {
          "base_uri": "https://localhost:8080/"
        },
        "id": "7HX0bUt0sOow",
        "outputId": "967c6f86-d221-46dc-ab33-f35b5ad5a32e"
      },
      "source": [
        "q = 30\n",
        "p = s_rate_cdf(q)\n",
        "p"
      ],
      "execution_count": 14,
      "outputs": [
        {
          "output_type": "execute_result",
          "data": {
            "text/plain": [
              "array(0.97139765)"
            ]
          },
          "metadata": {
            "tags": []
          },
          "execution_count": 14
        }
      ]
    },
    {
      "cell_type": "markdown",
      "metadata": {
        "id": "iExrvtFbtxPz"
      },
      "source": [
        "From the CDF above, we can say that from the suicide rates presented in the data, about 97% of countries have a suicide rate of 30% or lower."
      ]
    },
    {
      "cell_type": "markdown",
      "metadata": {
        "id": "XfIdKOcAvMuo"
      },
      "source": [
        "### GDP Data"
      ]
    },
    {
      "cell_type": "code",
      "metadata": {
        "id": "NTRk1z3ztq6w",
        "outputId": "a929ac34-8c9d-423f-c202-3d7abdac946a",
        "colab": {
          "base_uri": "https://localhost:8080/"
        }
      },
      "source": [
        "import os\n",
        "\n",
        "if not os.path.exists('gdp-per-capita-worldbank.csv'):\n",
        "  !wget https://github.com/tamisha-dzifa/DSProject2/raw/master/gdp-per-capita-worldbank.csv"
      ],
      "execution_count": 15,
      "outputs": [
        {
          "output_type": "stream",
          "text": [
            "--2020-11-17 19:46:16--  https://github.com/tamisha-dzifa/DSProject2/raw/master/gdp-per-capita-worldbank.csv\n",
            "Resolving github.com (github.com)... 140.82.112.4\n",
            "Connecting to github.com (github.com)|140.82.112.4|:443... connected.\n",
            "HTTP request sent, awaiting response... 302 Found\n",
            "Location: https://raw.githubusercontent.com/tamisha-dzifa/DSProject2/master/gdp-per-capita-worldbank.csv [following]\n",
            "--2020-11-17 19:46:17--  https://raw.githubusercontent.com/tamisha-dzifa/DSProject2/master/gdp-per-capita-worldbank.csv\n",
            "Resolving raw.githubusercontent.com (raw.githubusercontent.com)... 151.101.0.133, 151.101.64.133, 151.101.128.133, ...\n",
            "Connecting to raw.githubusercontent.com (raw.githubusercontent.com)|151.101.0.133|:443... connected.\n",
            "HTTP request sent, awaiting response... 200 OK\n",
            "Length: 242550 (237K) [text/plain]\n",
            "Saving to: ‘gdp-per-capita-worldbank.csv’\n",
            "\n",
            "gdp-per-capita-worl 100%[===================>] 236.87K  --.-KB/s    in 0.05s   \n",
            "\n",
            "2020-11-17 19:46:17 (4.84 MB/s) - ‘gdp-per-capita-worldbank.csv’ saved [242550/242550]\n",
            "\n"
          ],
          "name": "stdout"
        }
      ]
    },
    {
      "cell_type": "code",
      "metadata": {
        "id": "NTUwKJOJvlKe",
        "outputId": "c5aaa76d-cc60-4340-b485-d2648bd2fa49",
        "colab": {
          "base_uri": "https://localhost:8080/",
          "height": 204
        }
      },
      "source": [
        "gdp = pd.read_csv('gdp-per-capita-worldbank.csv')\n",
        "gdp.head()"
      ],
      "execution_count": 17,
      "outputs": [
        {
          "output_type": "execute_result",
          "data": {
            "text/html": [
              "<div>\n",
              "<style scoped>\n",
              "    .dataframe tbody tr th:only-of-type {\n",
              "        vertical-align: middle;\n",
              "    }\n",
              "\n",
              "    .dataframe tbody tr th {\n",
              "        vertical-align: top;\n",
              "    }\n",
              "\n",
              "    .dataframe thead th {\n",
              "        text-align: right;\n",
              "    }\n",
              "</style>\n",
              "<table border=\"1\" class=\"dataframe\">\n",
              "  <thead>\n",
              "    <tr style=\"text-align: right;\">\n",
              "      <th></th>\n",
              "      <th>Entity</th>\n",
              "      <th>Code</th>\n",
              "      <th>Year</th>\n",
              "      <th>GDP per capita, PPP (constant 2011 international $)</th>\n",
              "    </tr>\n",
              "  </thead>\n",
              "  <tbody>\n",
              "    <tr>\n",
              "      <th>0</th>\n",
              "      <td>Afghanistan</td>\n",
              "      <td>AFG</td>\n",
              "      <td>2002</td>\n",
              "      <td>1063.635574</td>\n",
              "    </tr>\n",
              "    <tr>\n",
              "      <th>1</th>\n",
              "      <td>Afghanistan</td>\n",
              "      <td>AFG</td>\n",
              "      <td>2003</td>\n",
              "      <td>1099.194507</td>\n",
              "    </tr>\n",
              "    <tr>\n",
              "      <th>2</th>\n",
              "      <td>Afghanistan</td>\n",
              "      <td>AFG</td>\n",
              "      <td>2004</td>\n",
              "      <td>1062.249360</td>\n",
              "    </tr>\n",
              "    <tr>\n",
              "      <th>3</th>\n",
              "      <td>Afghanistan</td>\n",
              "      <td>AFG</td>\n",
              "      <td>2005</td>\n",
              "      <td>1136.123214</td>\n",
              "    </tr>\n",
              "    <tr>\n",
              "      <th>4</th>\n",
              "      <td>Afghanistan</td>\n",
              "      <td>AFG</td>\n",
              "      <td>2006</td>\n",
              "      <td>1161.124889</td>\n",
              "    </tr>\n",
              "  </tbody>\n",
              "</table>\n",
              "</div>"
            ],
            "text/plain": [
              "        Entity Code  Year  GDP per capita, PPP (constant 2011 international $)\n",
              "0  Afghanistan  AFG  2002                                        1063.635574  \n",
              "1  Afghanistan  AFG  2003                                        1099.194507  \n",
              "2  Afghanistan  AFG  2004                                        1062.249360  \n",
              "3  Afghanistan  AFG  2005                                        1136.123214  \n",
              "4  Afghanistan  AFG  2006                                        1161.124889  "
            ]
          },
          "metadata": {
            "tags": []
          },
          "execution_count": 17
        }
      ]
    },
    {
      "cell_type": "markdown",
      "metadata": {
        "id": "GrnnSZDgv0tS"
      },
      "source": [
        "Renaming the last column as `GDP per capita`."
      ]
    },
    {
      "cell_type": "code",
      "metadata": {
        "id": "jQkPrYHkvq1w",
        "outputId": "13f64946-5b92-4e5b-9837-3eac59139eb2",
        "colab": {
          "base_uri": "https://localhost:8080/",
          "height": 204
        }
      },
      "source": [
        "gdp.columns = ['Entity', 'Code', 'Year', 'GDP per capita']\n",
        "gdp.head()"
      ],
      "execution_count": 18,
      "outputs": [
        {
          "output_type": "execute_result",
          "data": {
            "text/html": [
              "<div>\n",
              "<style scoped>\n",
              "    .dataframe tbody tr th:only-of-type {\n",
              "        vertical-align: middle;\n",
              "    }\n",
              "\n",
              "    .dataframe tbody tr th {\n",
              "        vertical-align: top;\n",
              "    }\n",
              "\n",
              "    .dataframe thead th {\n",
              "        text-align: right;\n",
              "    }\n",
              "</style>\n",
              "<table border=\"1\" class=\"dataframe\">\n",
              "  <thead>\n",
              "    <tr style=\"text-align: right;\">\n",
              "      <th></th>\n",
              "      <th>Entity</th>\n",
              "      <th>Code</th>\n",
              "      <th>Year</th>\n",
              "      <th>GDP per capita</th>\n",
              "    </tr>\n",
              "  </thead>\n",
              "  <tbody>\n",
              "    <tr>\n",
              "      <th>0</th>\n",
              "      <td>Afghanistan</td>\n",
              "      <td>AFG</td>\n",
              "      <td>2002</td>\n",
              "      <td>1063.635574</td>\n",
              "    </tr>\n",
              "    <tr>\n",
              "      <th>1</th>\n",
              "      <td>Afghanistan</td>\n",
              "      <td>AFG</td>\n",
              "      <td>2003</td>\n",
              "      <td>1099.194507</td>\n",
              "    </tr>\n",
              "    <tr>\n",
              "      <th>2</th>\n",
              "      <td>Afghanistan</td>\n",
              "      <td>AFG</td>\n",
              "      <td>2004</td>\n",
              "      <td>1062.249360</td>\n",
              "    </tr>\n",
              "    <tr>\n",
              "      <th>3</th>\n",
              "      <td>Afghanistan</td>\n",
              "      <td>AFG</td>\n",
              "      <td>2005</td>\n",
              "      <td>1136.123214</td>\n",
              "    </tr>\n",
              "    <tr>\n",
              "      <th>4</th>\n",
              "      <td>Afghanistan</td>\n",
              "      <td>AFG</td>\n",
              "      <td>2006</td>\n",
              "      <td>1161.124889</td>\n",
              "    </tr>\n",
              "  </tbody>\n",
              "</table>\n",
              "</div>"
            ],
            "text/plain": [
              "        Entity Code  Year  GDP per capita\n",
              "0  Afghanistan  AFG  2002     1063.635574\n",
              "1  Afghanistan  AFG  2003     1099.194507\n",
              "2  Afghanistan  AFG  2004     1062.249360\n",
              "3  Afghanistan  AFG  2005     1136.123214\n",
              "4  Afghanistan  AFG  2006     1161.124889"
            ]
          },
          "metadata": {
            "tags": []
          },
          "execution_count": 18
        }
      ]
    },
    {
      "cell_type": "code",
      "metadata": {
        "id": "iKA-qhZdv-Bz",
        "outputId": "ca16dbc2-68c5-4b04-bb1c-568a840d7e56",
        "colab": {
          "base_uri": "https://localhost:8080/"
        }
      },
      "source": [
        "gdp.shape"
      ],
      "execution_count": 19,
      "outputs": [
        {
          "output_type": "execute_result",
          "data": {
            "text/plain": [
              "(6407, 4)"
            ]
          },
          "metadata": {
            "tags": []
          },
          "execution_count": 19
        }
      ]
    },
    {
      "cell_type": "code",
      "metadata": {
        "id": "dFNMKysFwAUp",
        "outputId": "52cf6c00-8bfb-4ea4-94f8-15129005c358",
        "colab": {
          "base_uri": "https://localhost:8080/"
        }
      },
      "source": [
        "gdp_entity = gdp['Entity']\n",
        "gdp_entity.value_counts().sort_index()"
      ],
      "execution_count": 20,
      "outputs": [
        {
          "output_type": "execute_result",
          "data": {
            "text/plain": [
              "Afghanistan            16\n",
              "Albania                28\n",
              "Algeria                28\n",
              "Angola                 28\n",
              "Antigua and Barbuda    28\n",
              "                       ..\n",
              "Vietnam                28\n",
              "World                  28\n",
              "Yemen                  27\n",
              "Zambia                 28\n",
              "Zimbabwe               28\n",
              "Name: Entity, Length: 241, dtype: int64"
            ]
          },
          "metadata": {
            "tags": []
          },
          "execution_count": 20
        }
      ]
    },
    {
      "cell_type": "markdown",
      "metadata": {
        "id": "cgzLvZovwIjo"
      },
      "source": [
        "Unlike in the suicide data where each of the enntities had the same number of entries, there are some missing values in this dataset for some countries."
      ]
    },
    {
      "cell_type": "code",
      "metadata": {
        "id": "Xjq0kKprwHOV",
        "outputId": "e537b5e6-15a2-4f89-c54e-76493160fdc2",
        "colab": {
          "base_uri": "https://localhost:8080/"
        }
      },
      "source": [
        "gdp_entity.isna().sum()"
      ],
      "execution_count": 21,
      "outputs": [
        {
          "output_type": "execute_result",
          "data": {
            "text/plain": [
              "0"
            ]
          },
          "metadata": {
            "tags": []
          },
          "execution_count": 21
        }
      ]
    },
    {
      "cell_type": "code",
      "metadata": {
        "id": "VVQ4UJNmwTzj",
        "outputId": "2b502962-d3ed-4cd7-b65e-8873612b4d23",
        "colab": {
          "base_uri": "https://localhost:8080/"
        }
      },
      "source": [
        "gdp['GDP per capita'].isna().sum()"
      ],
      "execution_count": 22,
      "outputs": [
        {
          "output_type": "execute_result",
          "data": {
            "text/plain": [
              "0"
            ]
          },
          "metadata": {
            "tags": []
          },
          "execution_count": 22
        }
      ]
    },
    {
      "cell_type": "markdown",
      "metadata": {
        "id": "JcaJBJjgwZXm"
      },
      "source": [
        "These 'missing' values don't show as N/A but they are still missing as far as the number of data points is concerned."
      ]
    },
    {
      "cell_type": "code",
      "metadata": {
        "id": "s6q7DlORwYMg",
        "outputId": "2a6832cf-8dc2-49c7-cb7f-ede2547f47bc",
        "colab": {
          "base_uri": "https://localhost:8080/"
        }
      },
      "source": [
        "gdp_p_c = gdp['GDP per capita']\n",
        "gdp_p_c.describe()"
      ],
      "execution_count": 23,
      "outputs": [
        {
          "output_type": "execute_result",
          "data": {
            "text/plain": [
              "count      6407.000000\n",
              "mean      14926.095591\n",
              "std       17739.754531\n",
              "min         247.436540\n",
              "25%        3021.071807\n",
              "50%        8447.264179\n",
              "75%       19607.537075\n",
              "max      135318.754421\n",
              "Name: GDP per capita, dtype: float64"
            ]
          },
          "metadata": {
            "tags": []
          },
          "execution_count": 23
        }
      ]
    },
    {
      "cell_type": "markdown",
      "metadata": {
        "id": "9W-exfaHwuKC"
      },
      "source": [
        "Here, we realize that there are 6407 entries for GDP and 6468 entries for suicide rate. This is something we will have to look into and decide what to do."
      ]
    },
    {
      "cell_type": "code",
      "metadata": {
        "id": "pWbFxYg7wnRK"
      },
      "source": [
        "cdf_gdp = Cdf.from_seq(gdp_p_c)"
      ],
      "execution_count": 24,
      "outputs": []
    },
    {
      "cell_type": "code",
      "metadata": {
        "id": "fxjEMDc1w8Wa",
        "outputId": "994fc232-a44c-4ffb-cb30-e9ecb38caac6",
        "colab": {
          "base_uri": "https://localhost:8080/",
          "height": 319
        }
      },
      "source": [
        "cdf_gdp.plot()\n",
        "plt.xlabel('GDP per capita');\n",
        "plt.ylabel('CDF');\n",
        "plt.title('Distribution of GDP per capita');\n",
        "plt.xticks(rotation=45);"
      ],
      "execution_count": 31,
      "outputs": [
        {
          "output_type": "display_data",
          "data": {
            "image/png": "[encoded data removed]",
            "text/plain": [
              "<Figure size 432x288 with 1 Axes>"
            ]
          },
          "metadata": {
            "tags": [],
            "needs_background": "light"
          }
        }
      ]
    },
    {
      "cell_type": "code",
      "metadata": {
        "id": "cU_RvSNQw_Eb",
        "outputId": "dd02a5fc-6117-4d4e-81ce-513b7e692b06",
        "colab": {
          "base_uri": "https://localhost:8080/"
        }
      },
      "source": [
        "q = 14926  # the mean from the summary statistics\n",
        "p = cdf_gdp(q)\n",
        "p"
      ],
      "execution_count": 33,
      "outputs": [
        {
          "output_type": "execute_result",
          "data": {
            "text/plain": [
              "array(0.68487592)"
            ]
          },
          "metadata": {
            "tags": []
          },
          "execution_count": 33
        }
      ]
    },
    {
      "cell_type": "markdown",
      "metadata": {
        "id": "Dz7SdyKmyKYF"
      },
      "source": [
        "From the CDF above, we can say that from the GDP per capita values presented in the data, about 68% of countries have a GDP per capita of the mean value, $14926 (2011 international dollars), or below."
      ]
    },
    {
      "cell_type": "code",
      "metadata": {
        "id": "DR7F5PN4x4L3"
      },
      "source": [
        ""
      ],
      "execution_count": null,
      "outputs": []
    }
  ]
}